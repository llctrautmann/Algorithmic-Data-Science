{
 "cells": [
  {
   "cell_type": "code",
   "execution_count": 5,
   "metadata": {},
   "outputs": [],
   "source": [
    "# Find 70 in l\n",
    "\n",
    "def bst(integer, array):\n",
    "    \n",
    "    "
   ]
  },
  {
   "cell_type": "code",
   "execution_count": 20,
   "metadata": {},
   "outputs": [],
   "source": [
    "def tower_builder(n_floors):\n",
    "    out = []\n",
    "    counter = 0\n",
    "    \n",
    "    for i in range(n_floors):\n",
    "        out.append((' ' * (counter//2)) + ('*' * (n_floors+n_floors-1-counter)) + (' ' * (counter//2)))\n",
    "        counter += 2\n",
    "        \n",
    "    return out[::-1]"
   ]
  },
  {
   "cell_type": "code",
   "execution_count": 23,
   "metadata": {},
   "outputs": [
    {
     "data": {
      "text/plain": [
       "['                   *                   ',\n",
       " '                  ***                  ',\n",
       " '                 *****                 ',\n",
       " '                *******                ',\n",
       " '               *********               ',\n",
       " '              ***********              ',\n",
       " '             *************             ',\n",
       " '            ***************            ',\n",
       " '           *****************           ',\n",
       " '          *******************          ',\n",
       " '         *********************         ',\n",
       " '        ***********************        ',\n",
       " '       *************************       ',\n",
       " '      ***************************      ',\n",
       " '     *****************************     ',\n",
       " '    *******************************    ',\n",
       " '   *********************************   ',\n",
       " '  ***********************************  ',\n",
       " ' ************************************* ',\n",
       " '***************************************']"
      ]
     },
     "execution_count": 23,
     "metadata": {},
     "output_type": "execute_result"
    }
   ],
   "source": [
    "tower_builder(20)"
   ]
  },
  {
   "cell_type": "code",
   "execution_count": 13,
   "metadata": {},
   "outputs": [
    {
     "data": {
      "text/plain": [
       "2"
      ]
     },
     "execution_count": 13,
     "metadata": {},
     "output_type": "execute_result"
    }
   ],
   "source": [
    "\n"
   ]
  },
  {
   "cell_type": "code",
   "execution_count": 17,
   "metadata": {},
   "outputs": [
    {
     "data": {
      "text/plain": [
       "''"
      ]
     },
     "execution_count": 17,
     "metadata": {},
     "output_type": "execute_result"
    }
   ],
   "source": [
    "' ' * 0"
   ]
  },
  {
   "cell_type": "code",
   "execution_count": 51,
   "metadata": {},
   "outputs": [],
   "source": [
    "s =\"the_stealth_warrior\"\n",
    "\n"
   ]
  },
  {
   "cell_type": "code",
   "execution_count": 52,
   "metadata": {},
   "outputs": [],
   "source": [
    "def to_camel_case(text):\n",
    "    print([text] == text.split('_'))\n",
    "    if [text] == text.split('_'):\n",
    "        out = [x.capitalize() for x in text.split('-')]\n",
    "        if text[0].islower():\n",
    "            out[0] = out[0].casefold()\n",
    "            return ''.join(out)\n",
    "    else:\n",
    "        out = [x.capitalize() for x in text.split('_')]\n",
    "        if text[0].islower():\n",
    "            out[0] = out[0].casefold()\n",
    "            return ''.join(out)"
   ]
  },
  {
   "cell_type": "code",
   "execution_count": 53,
   "metadata": {},
   "outputs": [
    {
     "name": "stdout",
     "output_type": "stream",
     "text": [
      "False\n"
     ]
    },
    {
     "data": {
      "text/plain": [
       "'theStealthWarrior'"
      ]
     },
     "execution_count": 53,
     "metadata": {},
     "output_type": "execute_result"
    }
   ],
   "source": [
    "to_camel_case(s)"
   ]
  },
  {
   "cell_type": "code",
   "execution_count": null,
   "metadata": {},
   "outputs": [],
   "source": []
  }
 ],
 "metadata": {
  "kernelspec": {
   "display_name": "Python 3.10.0 64-bit ('Project_Razac')",
   "language": "python",
   "name": "python3"
  },
  "language_info": {
   "codemirror_mode": {
    "name": "ipython",
    "version": 3
   },
   "file_extension": ".py",
   "mimetype": "text/x-python",
   "name": "python",
   "nbconvert_exporter": "python",
   "pygments_lexer": "ipython3",
   "version": "3.10.0"
  },
  "orig_nbformat": 4,
  "vscode": {
   "interpreter": {
    "hash": "0624fdc580dd22ffab01908ebdb861054c94eb6283916d8819437b3612276558"
   }
  }
 },
 "nbformat": 4,
 "nbformat_minor": 2
}
