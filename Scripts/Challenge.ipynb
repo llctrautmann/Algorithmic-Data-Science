{
 "cells": [
  {
   "cell_type": "markdown",
   "metadata": {},
   "source": [
    "# Python Programming Challenge\n",
    "\n",
    "This workbook contains some challenges for you, to practise the skills you have already learnt and potentially develop some new ones. "
   ]
  },
  {
   "cell_type": "markdown",
   "metadata": {},
   "source": [
    "1] We are going to be looking at the characters that occur in a piece of English text.  Find some text on the Internet (the longer the better) and save it as a text file.  Read it in line by line and store it as a list of Strings."
   ]
  },
  {
   "cell_type": "code",
   "execution_count": 1,
   "metadata": {
    "collapsed": true
   },
   "outputs": [],
   "source": [
    "with open('text2.txt') as f:\n",
    "    lines = f.readlines()\n",
    "    \n",
    "lines_list = []\n",
    "\n",
    "for line in lines:\n",
    "    lines_list.append(line.strip())\n",
    "    \n",
    "    "
   ]
  },
  {
   "cell_type": "markdown",
   "metadata": {},
   "source": [
    "2] Write a function that will take a list of Strings and return a dictionary of character counts.  Test it on the text you read in 1."
   ]
  },
  {
   "cell_type": "code",
   "execution_count": 2,
   "metadata": {
    "collapsed": true
   },
   "outputs": [],
   "source": [
    "import string\n",
    "from collections import Counter\n",
    "\n",
    "def character_count(l):\n",
    "    memo = {}\n",
    "    out_memo = Counter({})\n",
    "    letter_list = []\n",
    "    \n",
    "    ref = [x for x in string.ascii_letters]\n",
    "    \n",
    "    for i in range(len(l)):\n",
    "        letter_list.append([x for x in l[i]])\n",
    "        \n",
    "    for i in range(len(letter_list)):\n",
    "        for j in ref:\n",
    "            memo[j] = letter_list[i].count(j) \n",
    "            out_memo += Counter(memo)\n",
    "\n",
    "    return out_memo"
   ]
  },
  {
   "cell_type": "code",
   "execution_count": 3,
   "metadata": {},
   "outputs": [],
   "source": [
    "d = character_count(lines_list)"
   ]
  },
  {
   "cell_type": "markdown",
   "metadata": {},
   "source": [
    "3] Plot a bar chart to show the frequency distribution of characters within the text.  You will need to use the library matplotlib or pandas to do this."
   ]
  },
  {
   "cell_type": "markdown",
   "metadata": {},
   "source": [
    "4] Order the characters on your bar chart so they are in order of descending frequency."
   ]
  },
  {
   "cell_type": "code",
   "execution_count": 6,
   "metadata": {
    "collapsed": true
   },
   "outputs": [
    {
     "data": {
      "text/plain": [
       "<BarContainer object of 44 artists>"
      ]
     },
     "execution_count": 6,
     "metadata": {},
     "output_type": "execute_result"
    },
    {
     "data": {
      "image/png": "[encoded data removed]",
      "text/plain": [
       "<Figure size 640x480 with 1 Axes>"
      ]
     },
     "metadata": {},
     "output_type": "display_data"
    }
   ],
   "source": [
    "import matplotlib.pyplot as plt\n",
    "\n",
    "d2 = dict(sorted(d.items(), key=lambda item: item[1]))\n",
    "\n",
    "plt.bar(d2.keys(), d2.values(),0.5,color='g')"
   ]
  },
  {
   "cell_type": "markdown",
   "metadata": {},
   "source": [
    "5] Now can you record for each character, the frequencies of the following characters?  You will probably need a dictionary of dictionaries for this."
   ]
  },
  {
   "cell_type": "code",
   "execution_count": null,
   "metadata": {},
   "outputs": [],
   "source": []
  },
  {
   "cell_type": "markdown",
   "metadata": {},
   "source": [
    "6] Can you use your language model to predict the next character in a user input?"
   ]
  },
  {
   "cell_type": "code",
   "execution_count": null,
   "metadata": {},
   "outputs": [],
   "source": []
  }
 ],
 "metadata": {
  "kernelspec": {
   "display_name": "Python 3.10.0 64-bit ('Project_Razac')",
   "language": "python",
   "name": "python3"
  },
  "language_info": {
   "codemirror_mode": {
    "name": "ipython",
    "version": 3
   },
   "file_extension": ".py",
   "mimetype": "text/x-python",
   "name": "python",
   "nbconvert_exporter": "python",
   "pygments_lexer": "ipython3",
   "version": "3.10.0"
  },
  "vscode": {
   "interpreter": {
    "hash": "0624fdc580dd22ffab01908ebdb861054c94eb6283916d8819437b3612276558"
   }
  }
 },
 "nbformat": 4,
 "nbformat_minor": 2
}
