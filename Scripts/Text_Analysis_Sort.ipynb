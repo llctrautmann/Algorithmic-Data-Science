{
 "cells": [
  {
   "cell_type": "code",
   "execution_count": null,
   "metadata": {},
   "outputs": [],
   "source": [
    "with open('text2.txt') as f:\n",
    "    lines = f.readlines()\n",
    "    \n",
    "lines_list = []\n",
    "\n",
    "for line in lines:\n",
    "    lines_list.append(line.strip())\n",
    "    "
   ]
  },
  {
   "cell_type": "code",
   "execution_count": null,
   "metadata": {},
   "outputs": [],
   "source": [
    "import string\n",
    "from collections import Counter\n",
    "\n",
    "def character_count(l):\n",
    "    out = []\n",
    "    memo = {}\n",
    "    out_memo = Counter({})\n",
    "    letter_list = []\n",
    "    \n",
    "    ref = [x for x in string.ascii_letters]\n",
    "    \n",
    "    for i in range(len(l)):\n",
    "        letter_list.append([x for x in l[i]])\n",
    "        \n",
    "        \n",
    "    for i in range(len(letter_list)):\n",
    "        for j in ref:\n",
    "            memo[j] = letter_list[i].count(j) \n",
    "        out.append(Counter(memo)) \n",
    "        \n",
    "    \n",
    "    for i in range(len(out)):\n",
    "        out_memo += out[i]\n",
    "    return out_memo"
   ]
  },
  {
   "cell_type": "code",
   "execution_count": null,
   "metadata": {},
   "outputs": [],
   "source": [
    "class WordSort:\n",
    "    def __init__(self,text):\n",
    "        self._text = text\n",
    "        self._lines = []\n",
    "        \n",
    "    def initialize_text(self):\n",
    "        with open(self._text) as f:\n",
    "            raw_text = f.readlines()\n",
    "        for elements in raw_text:\n",
    "            self.lines.append(line.strip())\n",
    "        \n",
    "        print(f'Successfully read {len(self._lines)} lines {if len(self._lines) > 0} {else}')\n",
    "        "
   ]
  }
 ],
 "metadata": {
  "kernelspec": {
   "display_name": "Python 3.10.0 64-bit ('Project_Razac')",
   "language": "python",
   "name": "python3"
  },
  "language_info": {
   "name": "python",
   "version": "3.10.0"
  },
  "orig_nbformat": 4,
  "vscode": {
   "interpreter": {
    "hash": "0624fdc580dd22ffab01908ebdb861054c94eb6283916d8819437b3612276558"
   }
  }
 },
 "nbformat": 4,
 "nbformat_minor": 2
}
