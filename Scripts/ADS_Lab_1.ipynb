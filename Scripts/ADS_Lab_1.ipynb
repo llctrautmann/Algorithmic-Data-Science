{
 "cells": [
  {
   "cell_type": "markdown",
   "metadata": {},
   "source": [
    "# ADS Lab 1 - Investigating Data Structures\n",
    "\n",
    "In the lecture we talked about the Python list data structure as well as dictionaries, hash tables and binary search trees.  Here we will be looking at simple operations on (long) lists and investigating how algorithmic choices impact run time.\n",
    "\n",
    "In order to do this we will be creating and processing lists of random numbers.  We can easily generate random numbers in Python using the *random* library."
   ]
  },
  {
   "cell_type": "code",
   "execution_count": 16,
   "metadata": {},
   "outputs": [
    {
     "name": "stdout",
     "output_type": "stream",
     "text": [
      "145\n"
     ]
    }
   ],
   "source": [
    "import random\n",
    "\n",
    "startno=1\n",
    "endno=1000\n",
    "\n",
    "#random.randint(a,b) returns a (pseudo-)random integer between a and b inclusive\n",
    "a=random.randint(startno,endno)\n",
    "print(a)"
   ]
  },
  {
   "cell_type": "markdown",
   "metadata": {},
   "source": [
    "### Exercise 1.\n",
    "Remember, if you have list *list1* you can add another *item* to the end by calling *list1.append(item)*\n",
    "\n",
    "Write a function *make_rand_list1(n)* which returns a list of *n* random integers (between 1 and 100).  This function should use the **append** method for lists as described above."
   ]
  },
  {
   "cell_type": "code",
   "execution_count": 18,
   "metadata": {},
   "outputs": [],
   "source": [
    "import random\n",
    "\n",
    "def make_rand_list1(m,n=1):\n",
    "    out = []\n",
    "    for i in range(0,m,n):\n",
    "        out.append(random.randint(1,100))\n",
    "        \n",
    "    return out"
   ]
  },
  {
   "cell_type": "code",
   "execution_count": 28,
   "metadata": {},
   "outputs": [],
   "source": [
    "def rl(n):\n",
    "    return [random.randint(0,100) for x in range(n)]"
   ]
  },
  {
   "cell_type": "code",
   "execution_count": 29,
   "metadata": {},
   "outputs": [
    {
     "data": {
      "text/plain": [
       "[3, 5, 33, 13, 78, 77, 94, 18, 95, 48]"
      ]
     },
     "execution_count": 29,
     "metadata": {},
     "output_type": "execute_result"
    }
   ],
   "source": [
    "rl(10)"
   ]
  },
  {
   "cell_type": "code",
   "execution_count": 27,
   "metadata": {},
   "outputs": [
    {
     "data": {
      "text/plain": [
       "[18, 29, 73, 31, 74, 11, 99, 48, 92, 46]"
      ]
     },
     "execution_count": 27,
     "metadata": {},
     "output_type": "execute_result"
    }
   ],
   "source": [
    "make_rand_list1(10)"
   ]
  },
  {
   "cell_type": "markdown",
   "metadata": {},
   "source": [
    "## Keyword Arguments to Functions\n",
    "There are 2 ways of supplying arguments to functions in Python - by position and by name."
   ]
  },
  {
   "cell_type": "code",
   "execution_count": 116,
   "metadata": {},
   "outputs": [],
   "source": [
    "def myfunc(a,b):\n",
    "    '''\n",
    "    myfunc() has 2 positional arguments.  \n",
    "    They have to be supplied each time the function is called.\n",
    "    They have to be supplied in the correct order\n",
    "    '''\n",
    "    \n",
    "    x=0\n",
    "    for i in range(100000):\n",
    "        x+=a*i/b*(i+1) \n",
    "    \n",
    "    return x\n"
   ]
  },
  {
   "cell_type": "code",
   "execution_count": 117,
   "metadata": {},
   "outputs": [
    {
     "data": {
      "text/plain": [
       "66666666659988.75"
      ]
     },
     "execution_count": 117,
     "metadata": {},
     "output_type": "execute_result"
    }
   ],
   "source": [
    "myfunc(2,10)"
   ]
  },
  {
   "cell_type": "code",
   "execution_count": 118,
   "metadata": {},
   "outputs": [
    {
     "data": {
      "text/plain": [
       "1666666666500000.0"
      ]
     },
     "execution_count": 118,
     "metadata": {},
     "output_type": "execute_result"
    }
   ],
   "source": [
    "myfunc(10,2)"
   ]
  },
  {
   "cell_type": "code",
   "execution_count": 119,
   "metadata": {},
   "outputs": [
    {
     "ename": "TypeError",
     "evalue": "myfunc() missing 1 required positional argument: 'b'",
     "output_type": "error",
     "traceback": [
      "\u001b[0;31m---------------------------------------------------------------------------\u001b[0m",
      "\u001b[0;31mTypeError\u001b[0m                                 Traceback (most recent call last)",
      "Cell \u001b[0;32mIn [119], line 1\u001b[0m\n\u001b[0;32m----> 1\u001b[0m \u001b[43mmyfunc\u001b[49m\u001b[43m(\u001b[49m\u001b[38;5;241;43m20\u001b[39;49m\u001b[43m)\u001b[49m\n",
      "\u001b[0;31mTypeError\u001b[0m: myfunc() missing 1 required positional argument: 'b'"
     ]
    }
   ],
   "source": [
    "myfunc(20)"
   ]
  },
  {
   "cell_type": "markdown",
   "metadata": {},
   "source": [
    "However, sometimes we want to make arguments optional or supply default values.  We can do this using named or keyword arguments"
   ]
  },
  {
   "cell_type": "code",
   "execution_count": 120,
   "metadata": {},
   "outputs": [],
   "source": [
    "def myfunc2(numerator=10,denominator=2):\n",
    "    '''\n",
    "    If no values are supplied at run-time then numerator will be 10 and denominator will be 2\n",
    "    '''\n",
    "    \n",
    "    x=0\n",
    "    for i in range(100000):\n",
    "        x+=numerator*i/denominator*(i+1) \n",
    "    \n",
    "    return x"
   ]
  },
  {
   "cell_type": "code",
   "execution_count": 121,
   "metadata": {},
   "outputs": [
    {
     "data": {
      "text/plain": [
       "1666666666500000.0"
      ]
     },
     "execution_count": 121,
     "metadata": {},
     "output_type": "execute_result"
    }
   ],
   "source": [
    "myfunc2()"
   ]
  },
  {
   "cell_type": "code",
   "execution_count": 122,
   "metadata": {},
   "outputs": [
    {
     "data": {
      "text/plain": [
       "66666666659988.75"
      ]
     },
     "execution_count": 122,
     "metadata": {},
     "output_type": "execute_result"
    }
   ],
   "source": [
    "myfunc2(denominator=10,numerator=2) #we can give named arguments in any order provided we use the names"
   ]
  },
  {
   "cell_type": "code",
   "execution_count": 123,
   "metadata": {},
   "outputs": [
    {
     "data": {
      "text/plain": [
       "4999999999500000.0"
      ]
     },
     "execution_count": 123,
     "metadata": {},
     "output_type": "execute_result"
    }
   ],
   "source": [
    "myfunc2(30,2) #no names given so default ordering is assumed"
   ]
  },
  {
   "cell_type": "code",
   "execution_count": 124,
   "metadata": {},
   "outputs": [
    {
     "data": {
      "text/plain": [
       "4999999999500000.0"
      ]
     },
     "execution_count": 124,
     "metadata": {},
     "output_type": "execute_result"
    }
   ],
   "source": [
    "myfunc2(30)"
   ]
  },
  {
   "cell_type": "markdown",
   "metadata": {},
   "source": [
    "### Exercise 2\n",
    "Modify your code in exercise 1 so that it takes two optional keyword arguments that define the start and end of the range which the random numbers are selected from."
   ]
  },
  {
   "cell_type": "code",
   "execution_count": 126,
   "metadata": {
    "collapsed": true
   },
   "outputs": [],
   "source": [
    "import random\n",
    "\n",
    "def make_rand_list2(start,end,step=1):\n",
    "    out = []\n",
    "    for i in range(0,101,step):\n",
    "        out.append(random.randint(start,end))\n",
    "        \n",
    "    return out"
   ]
  },
  {
   "cell_type": "code",
   "execution_count": 127,
   "metadata": {},
   "outputs": [
    {
     "data": {
      "text/plain": [
       "[9,\n",
       " 3,\n",
       " 2,\n",
       " 6,\n",
       " 3,\n",
       " 5,\n",
       " 9,\n",
       " 3,\n",
       " 2,\n",
       " 9,\n",
       " 6,\n",
       " 7,\n",
       " 1,\n",
       " 4,\n",
       " 3,\n",
       " 8,\n",
       " 8,\n",
       " 3,\n",
       " 10,\n",
       " 5,\n",
       " 2,\n",
       " 9,\n",
       " 7,\n",
       " 3,\n",
       " 6,\n",
       " 7,\n",
       " 9,\n",
       " 7,\n",
       " 2,\n",
       " 10,\n",
       " 10,\n",
       " 5,\n",
       " 4,\n",
       " 1,\n",
       " 9,\n",
       " 10,\n",
       " 8,\n",
       " 8,\n",
       " 6,\n",
       " 10,\n",
       " 7,\n",
       " 5,\n",
       " 4,\n",
       " 1,\n",
       " 9,\n",
       " 3,\n",
       " 8,\n",
       " 3,\n",
       " 3,\n",
       " 6,\n",
       " 7,\n",
       " 5,\n",
       " 7,\n",
       " 3,\n",
       " 9,\n",
       " 1,\n",
       " 5,\n",
       " 1,\n",
       " 3,\n",
       " 5,\n",
       " 6,\n",
       " 1,\n",
       " 6,\n",
       " 5,\n",
       " 9,\n",
       " 7,\n",
       " 1,\n",
       " 8,\n",
       " 7,\n",
       " 3,\n",
       " 8,\n",
       " 2,\n",
       " 1,\n",
       " 7,\n",
       " 2,\n",
       " 3,\n",
       " 4,\n",
       " 3,\n",
       " 5,\n",
       " 7,\n",
       " 6,\n",
       " 9,\n",
       " 7,\n",
       " 2,\n",
       " 2,\n",
       " 9,\n",
       " 7,\n",
       " 7,\n",
       " 2,\n",
       " 6,\n",
       " 7,\n",
       " 3,\n",
       " 3,\n",
       " 3,\n",
       " 2,\n",
       " 5,\n",
       " 3,\n",
       " 4,\n",
       " 6,\n",
       " 3,\n",
       " 8]"
      ]
     },
     "execution_count": 127,
     "metadata": {},
     "output_type": "execute_result"
    }
   ],
   "source": [
    "make_rand_list2(1,10)"
   ]
  },
  {
   "cell_type": "markdown",
   "metadata": {},
   "source": [
    "### Exercise 3\n",
    "You may have thought of ways of creating this list which do not use the append method.  For example, you could\n",
    "* create a list containing a new random number and use list concatenation: [r]+list1\n",
    "* create a list containing a new random number and use list concatenation: list1 + [r]\n",
    "* use a list comprehension together with the *range()* function\n",
    "\n",
    "Can you create Python functions for each of these algorithms (and any others you can think of)?\n",
    "\n",
    "Which of your functions do you think is the best?  Which do you think will run the fastest?"
   ]
  },
  {
   "cell_type": "markdown",
   "metadata": {},
   "source": [
    "## Timing Code\n",
    "We can time how long it takes code to run on the kernel using the *time* library"
   ]
  },
  {
   "cell_type": "code",
   "execution_count": 128,
   "metadata": {},
   "outputs": [
    {
     "name": "stdout",
     "output_type": "stream",
     "text": [
      "Time taken was 0.00010180473327636719s\n"
     ]
    }
   ],
   "source": [
    "def list_f1(r,l):\n",
    "    return [r] + l\n",
    "\n",
    "import time\n",
    "\n",
    "starttime=time.time() #start the stopwatch\n",
    "'''\n",
    "now put the code you want to time\n",
    "'''\n",
    "list_f1(4,[1,2,3])\n",
    "'''\n",
    "code being timed completed\n",
    "'''\n",
    "endtime=time.time() #stop the stopwatch\n",
    "timetaken=endtime-starttime\n",
    "print(\"Time taken was {}s\".format(timetaken)) #.format() can be called on a String for nice formatting (alternative to string concatenation)"
   ]
  },
  {
   "cell_type": "code",
   "execution_count": 129,
   "metadata": {},
   "outputs": [
    {
     "name": "stdout",
     "output_type": "stream",
     "text": [
      "Time taken was 9.393692016601562e-05s\n"
     ]
    }
   ],
   "source": [
    "def list_f2(r,l):\n",
    "    return l + [r]\n",
    "\n",
    "starttime=time.time() #start the stopwatch\n",
    "'''\n",
    "now put the code you want to time\n",
    "'''\n",
    "list_f2(4,[1,2,3])\n",
    "'''\n",
    "code being timed completed\n",
    "'''\n",
    "endtime=time.time() #stop the stopwatch\n",
    "timetaken=endtime-starttime\n",
    "print(\"Time taken was {}s\".format(timetaken)) #.format() can be called on a String for nice formatting (alternative to string concatenation)"
   ]
  },
  {
   "cell_type": "code",
   "execution_count": 130,
   "metadata": {},
   "outputs": [
    {
     "name": "stdout",
     "output_type": "stream",
     "text": [
      "Time taken was 9.918212890625e-05s\n"
     ]
    }
   ],
   "source": [
    "def list_f3(start,finish):\n",
    "    return [x for x in range(start,finish)]\n",
    "\n",
    "\n",
    "starttime=time.time() #start the stopwatch\n",
    "'''\n",
    "now put the code you want to time\n",
    "'''\n",
    "list_f3(0,10)\n",
    "'''\n",
    "code being timed completed\n",
    "'''\n",
    "endtime=time.time() #stop the stopwatch\n",
    "timetaken=endtime-starttime\n",
    "print(\"Time taken was {}s\".format(timetaken)) #.format() can be called on a String for nice formatting (alternative to string concatenation)"
   ]
  },
  {
   "cell_type": "code",
   "execution_count": 131,
   "metadata": {},
   "outputs": [
    {
     "name": "stdout",
     "output_type": "stream",
     "text": [
      "Time taken was 0.0001437664031982422s\n"
     ]
    }
   ],
   "source": [
    "def concat(input_list,*args):\n",
    "    for i in args:\n",
    "        input_list += [i]\n",
    "        \n",
    "    return input_list\n",
    "\n",
    "\n",
    "starttime=time.time() #start the stopwatch\n",
    "'''\n",
    "now put the code you want to time\n",
    "'''\n",
    "\n",
    "concat([],0,1,2,3,4,5,6,7,8,9)\n",
    "\n",
    "'''\n",
    "code being timed completed\n",
    "'''\n",
    "endtime=time.time() #stop the stopwatch\n",
    "timetaken=endtime-starttime\n",
    "print(\"Time taken was {}s\".format(timetaken)) #.format() can be called on a String for nice formatting (alternative to string concatenation)"
   ]
  },
  {
   "cell_type": "code",
   "execution_count": 148,
   "metadata": {},
   "outputs": [
    {
     "name": "stdout",
     "output_type": "stream",
     "text": [
      "Time taken was 0.08634710311889648s\n"
     ]
    }
   ],
   "source": [
    "import time\n",
    "\n",
    "starttime=time.time() #start the stopwatch\n",
    "'''\n",
    "now put the code you want to time\n",
    "'''\n",
    "x=0\n",
    "for i in range(10000):\n",
    "    x+=2**i\n",
    "'''\n",
    "code being timed completed\n",
    "'''\n",
    "endtime=time.time() #stop the stopwatch\n",
    "timetaken=endtime-starttime\n",
    "print(\"Time taken was {}s\".format(timetaken)) #.format() can be called on a String for nice formatting (alternative to string concatenation)"
   ]
  },
  {
   "cell_type": "markdown",
   "metadata": {},
   "source": [
    "If you repeatedly run the cell above, you will notice that the times vary (a lot).  This is mainly due to the fact that your computer is doing other things at the same time.   Further, results will vary greatly from one machine to another.  However, by performing a large number of repetitions and taking an average, we can get an idea of how fast a snippet of code will run on the current machine.\n",
    "\n",
    "Below, there is code for a timeit() function.  This is a higher level function which takes as its first argument a function *somefunc*. This function may have its own positional arguments (\\*args) and its own keyword arguments (\\*\\*kwargs).  These must be passed to *somefunc* when it is called from within timeit() "
   ]
  },
  {
   "cell_type": "code",
   "execution_count": 149,
   "metadata": {},
   "outputs": [],
   "source": [
    "import numpy as np\n",
    "\n",
    "def timeit(somefunc,*args,repeats=100,**kwargs):\n",
    "    times=[]\n",
    "    for i in range(repeats):\n",
    "        starttime=time.time()\n",
    "        ans=somefunc(*args,**kwargs)\n",
    "        endtime=time.time()\n",
    "        timetaken=endtime-starttime\n",
    "        times.append(timetaken)\n",
    "    \n",
    "    mean=np.mean(times)\n",
    "    stdev=np.std(times)\n",
    "    error=stdev/(repeats**0.5)\n",
    " \n",
    "    return (ans,mean,error)"
   ]
  },
  {
   "cell_type": "code",
   "execution_count": 160,
   "metadata": {},
   "outputs": [
    {
     "data": {
      "text/plain": [
       "([22, 31, 6, 93, 34], 5.197525024414063e-06, 1.200171751847574e-07)"
      ]
     },
     "execution_count": 160,
     "metadata": {},
     "output_type": "execute_result"
    }
   ],
   "source": [
    "timeit(make_rand_list1,5)"
   ]
  },
  {
   "cell_type": "markdown",
   "metadata": {},
   "source": [
    "You could obviously call timeit() on your functions to generate random number lists.  However, it is much more interesting to consider how the amount of time taken relates to the (size of the) input \n",
    "\n",
    "### Exercise 4\n",
    "Write some code to time the running of make_rand_list1(n) where n is a multiple of 10 between 0 and 1000.  Store the values of n in a list called *xs* and the mean times (returned by *timeit()*) in a list called *ys*.\n",
    "(If you are on a super-fast computer, you can add one or two 0s above to make it take a bit longer.)"
   ]
  },
  {
   "cell_type": "code",
   "execution_count": 163,
   "metadata": {
    "collapsed": true
   },
   "outputs": [],
   "source": [
    "import random\n",
    "\n",
    "def make_rand_list1(m,n=1):\n",
    "    out = []\n",
    "    for i in range(0,m,n):\n",
    "        out.append(random.randint(1,10000))\n",
    "        \n",
    "    return out\n",
    "\n",
    "\n",
    "def time_func(function,*args):\n",
    "    xs = []\n",
    "    ys = []\n",
    "    \n",
    "    for i in args:\n",
    "        \n",
    "        xs.append(i)\n",
    "        ys.append(timeit(function,i)[1])\n",
    "        \n",
    "    return xs, ys\n",
    "        "
   ]
  },
  {
   "cell_type": "code",
   "execution_count": 196,
   "metadata": {},
   "outputs": [],
   "source": [
    "(xs, ys) = time_func(make_rand_list1,10,50,100,500,1000,5000,10000,20000,30000,40000,50000)"
   ]
  },
  {
   "cell_type": "markdown",
   "metadata": {},
   "source": [
    "## Plotting the Results\n",
    "For a really simple scatterplot of the results, you can use the following code"
   ]
  },
  {
   "cell_type": "code",
   "execution_count": 335,
   "metadata": {
    "collapsed": true
   },
   "outputs": [
    {
     "data": {
      "image/png": "[encoded data removed]",
      "text/plain": [
       "<Figure size 640x480 with 1 Axes>"
      ]
     },
     "metadata": {},
     "output_type": "display_data"
    }
   ],
   "source": [
    "import matplotlib.pyplot as plt\n",
    "\n",
    "plt.subplot(111)\n",
    "plt.scatter(xs,ys,label='make_rand_list1')\n",
    "# plt.ylim(0,0.006)  #you will need to play around with the upper limit depending on your computer\n",
    "plt.legend(loc='upper left')\n",
    "plt.xlabel('Length of list')\n",
    "plt.ylabel('Time (s)')\n",
    "plt.title('Average length of time to generate lists of different lengths')\n",
    "\n",
    "plt.show()"
   ]
  },
  {
   "cell_type": "markdown",
   "metadata": {},
   "source": [
    "### Exercise 5\n",
    "Can you time all of your different functions for making a list of random integers (for varying values of n) and plot the results on the same graph?  What can you conclude about the different algorithms?"
   ]
  },
  {
   "cell_type": "markdown",
   "metadata": {},
   "source": [
    "## Extension\n",
    "You can sort any of your lists using the sorted() function.  Investigate how long it takes to find a number in a sorted() list by\n",
    "1. Checking each item in turn.\n",
    "2. Using a binary search strategy.  In other words, start in the middle of the list, compare the current item with your target item and move to the left or right accordingly.  Take the middle of that sub-list and so on until the item is found.\n",
    "\n",
    "To make this more realistic, make the range that your random numbers are selected from much larger than your longest lists (in order to reduce the number of repeated items in the lists). "
   ]
  },
  {
   "cell_type": "code",
   "execution_count": 336,
   "metadata": {},
   "outputs": [],
   "source": [
    "def make_rand_list1(m,n=1):\n",
    "    out = []\n",
    "    for i in range(0,m,n):\n",
    "        out.append(random.randint(1,m))\n",
    "        \n",
    "    return out\n",
    "\n",
    "\n",
    "def binary_search(arr,val):\n",
    "    if len(arr) == 0 or (len(arr) == 1 and val != arr[0]):\n",
    "        return False\n",
    "    \n",
    "    # mid values\n",
    "    mid = arr[int(len(arr)/2)]\n",
    "    \n",
    "    if val == mid: return True\n",
    "    if val < mid: return binary_search(arr[:int(len(arr)/2)],val)\n",
    "    if val > mid: return binary_search(arr[int(len(arr)/2+1):],val)\n",
    "    \n",
    "    \n",
    "def find_int(arr,val):\n",
    "    for i in arr:\n",
    "        if val == i: return True\n",
    "    \n",
    "    else: return False\n",
    "    \n",
    "    \n",
    "def time_func(function,*args):\n",
    "    xs = []\n",
    "    ys = []\n",
    "    \n",
    "    for i in args:\n",
    "        arr = list(set(sorted(make_rand_list1(i))))\n",
    "        \n",
    "        xs.append(i)\n",
    "        ys.append(timeit(function,arr,arr[-3])[1])\n",
    "        \n",
    "    return xs, ys\n",
    "        "
   ]
  },
  {
   "cell_type": "code",
   "execution_count": 337,
   "metadata": {
    "collapsed": true
   },
   "outputs": [],
   "source": [
    "(xs1, ys1) = time_func(binary_search,100000,200000,300000,400000,500000,600000,700000,800000,900000,1000000)\n",
    "\n",
    "(xs2, ys2) = time_func(find_int,100000,200000,300000,400000,500000,600000,700000,800000,900000,1000000)"
   ]
  },
  {
   "cell_type": "code",
   "execution_count": 339,
   "metadata": {
    "collapsed": true
   },
   "outputs": [
    {
     "data": {
      "image/png": "[encoded data removed]",
      "text/plain": [
       "<Figure size 640x480 with 1 Axes>"
      ]
     },
     "metadata": {},
     "output_type": "display_data"
    }
   ],
   "source": [
    "import matplotlib.pyplot as plt\n",
    "\n",
    "plt.subplot(111)\n",
    "plt.scatter(xs1,ys1,label='binary_search')\n",
    "# plt.ylim(0,0.006)  #you will need to play around with the upper limit depending on your computer\n",
    "plt.legend(loc='upper left')\n",
    "plt.xlabel('Length of list')\n",
    "plt.ylabel('Time (s)')\n",
    "plt.title('Average length of time to generate lists of different lengths')\n",
    "plt.scatter(xs2,ys2,label='iterative')\n",
    "plt.legend(loc='upper left')\n",
    "\n",
    "plt.show()"
   ]
  }
 ],
 "metadata": {
  "kernelspec": {
   "display_name": "Python 3.10.0 64-bit ('Project_Razac')",
   "language": "python",
   "name": "python3"
  },
  "language_info": {
   "codemirror_mode": {
    "name": "ipython",
    "version": 3
   },
   "file_extension": ".py",
   "mimetype": "text/x-python",
   "name": "python",
   "nbconvert_exporter": "python",
   "pygments_lexer": "ipython3",
   "version": "3.10.0"
  },
  "vscode": {
   "interpreter": {
    "hash": "0624fdc580dd22ffab01908ebdb861054c94eb6283916d8819437b3612276558"
   }
  }
 },
 "nbformat": 4,
 "nbformat_minor": 2
}
