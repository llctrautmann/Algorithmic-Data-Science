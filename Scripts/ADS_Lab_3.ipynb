{
 "cells": [
  {
   "cell_type": "markdown",
   "metadata": {},
   "source": [
    "# Algorithmic Data Science: Lab 3 - Matrices\n",
    "\n",
    "## Exercise 1\n",
    "\n",
    "A matrix can be represented as a list of lists, where each internal list is a row of the matrix"
   ]
  },
  {
   "cell_type": "code",
   "execution_count": 14,
   "metadata": {},
   "outputs": [],
   "source": [
    "import numpy as np\n",
    "\n",
    "matrixA = np.array([[1,3,4,4],[2,2,-1,0],[2,3,7,9],[2,6,7,0]])\n",
    "matrixB = np.array([[2,0,6,1],[2,-1,-1,5],[2,3,0,-1],[2,6,7,0]])\n",
    "matrixC = [[2,3],[0,9]]\n",
    "matrixD = [[1,4,5],[2,3],[1,7,9]]"
   ]
  },
  {
   "cell_type": "markdown",
   "metadata": {},
   "source": [
    "Write functions to do the following. (Alternatively, you could write a matrix class which is initialised using a list of lists and then create methods for the following).\n",
    "\n",
    "1. determine whether the input is a valid matrix\n",
    "2. return the dimensionality of a valid matrix as (m,n) where m is the number of rows and n is the number of columns\n",
    "3. transpose a matrix\n",
    "4. add two compatible matrices\n",
    "5. multiply a matrix by a scalar\n",
    "6. multiply two compatible matrices using the naive method from the lectures\n",
    "7. multiply two compatible matrices using Strassen's method (provided the matrices are nxn and n is a power of 2)"
   ]
  },
  {
   "cell_type": "code",
   "execution_count": 15,
   "metadata": {
    "collapsed": true
   },
   "outputs": [],
   "source": [
    "import numpy as np\n",
    "\n",
    "class MatrixClass:\n",
    "    def __init__(self,list_of_lists) -> None:\n",
    "        self.ll = list_of_lists\n",
    "        self.matrix = None\n",
    "        \n",
    "    def validity(self):\n",
    "        for i in range(len(self.ll)):\n",
    "            if (len(self.ll[0]) != len(self.ll[i])):\n",
    "                return \"Invalid matrix\"\n",
    "            else:\n",
    "                pass\n",
    "        self.matrix = np.array(self.ll)\n",
    "        return \"Matrix valid\"\n",
    "        \n",
    "    def shape(self):\n",
    "        try:\n",
    "            return self.matrix.shape\n",
    "        except AttributeError:\n",
    "            return 'Input is not a valid matrix'\n",
    "        \n",
    "        \n",
    "    def det(self):\n",
    "        return np.linalg.det(self.matrix)\n",
    "    \n",
    "    def transpose(self):\n",
    "        return self.matrix.transpose()\n",
    "    \n",
    "    def scalar_multiply(self,scalar):\n",
    "        return self.matrix * scalar\n",
    "\n",
    "    def naive_multiply(self,A,B):\n",
    "        out = []\n",
    "        for i in range(A.shape[0]):\n",
    "            for j in range(B.T.shape[0]):\n",
    "                sums = 0\n",
    "                for elements in range(B.shape[0]):\n",
    "                    sums += A[i][elements]*B.T[j][elements]\n",
    "                out.append(sums)\n",
    "                        \n",
    "        return np.array(out).reshape(A.shape[0], B.shape[1])\n",
    "    \n",
    "    \n",
    "                \n",
    "    def strassen(self,A,B):\n",
    "        \"\"\"\n",
    "        Computes matrix product by divide and conquer approach, recursively.\n",
    "        Input: nxn matrices x and y\n",
    "        Output: nxn matrix, product of x and y\n",
    "        \"\"\"\n",
    "        # Base case when size of matrices is 1x1\n",
    "        if len(A) == 1:\n",
    "            return A * B\n",
    "    \n",
    "        # Splitting the matrices into quadrants. This will be done recursively\n",
    "        # until the base case is reached.\n",
    "        a, b, c, d = self.split(A)\n",
    "        e, f, g, h = self.split(B)\n",
    "    \n",
    "        # Computing the 7 products, recursively (p1, p2...p7)\n",
    "        p1 = self.strassen(a, f - h)  \n",
    "        p2 = self.strassen(a + b, h)        \n",
    "        p3 = self.strassen(c + d, e)        \n",
    "        p4 = self.strassen(d, g - e)        \n",
    "        p5 = self.strassen(a + d, e + h)        \n",
    "        p6 = self.strassen(b - d, g + h)  \n",
    "        p7 = self.strassen(a - c, e + f)  \n",
    "    \n",
    "        # Computing the values of the 4 quadrants of the final matrix c\n",
    "        c11 = p5 + p4 - p2 + p6  \n",
    "        c12 = p1 + p2           \n",
    "        c21 = p3 + p4            \n",
    "        c22 = p1 + p5 - p3 - p7  \n",
    "    \n",
    "        # Combining the 4 quadrants into a single matrix by stacking horizontally and vertically.\n",
    "        c = np.vstack((np.hstack((c11, c12)), np.hstack((c21, c22)))) \n",
    "    \n",
    "        return c\n",
    "        \n",
    "\n",
    "        \n",
    "    @staticmethod\n",
    "    def split(matrix):\n",
    "        \"\"\"\n",
    "        Splits a given matrix into quarters.\n",
    "        Input: nxn matrix\n",
    "        Output: tuple containing 4 n/2 x n/2 matrices corresponding to a, b, c, d\n",
    "        \"\"\"\n",
    "        row, col = matrix.shape\n",
    "        row2, col2 = row//2, col//2\n",
    "        return matrix[:row2, :col2], matrix[:row2, col2:], matrix[row2:, :col2], matrix[row2:, col2:]\n",
    "    "
   ]
  },
  {
   "cell_type": "code",
   "execution_count": 16,
   "metadata": {},
   "outputs": [
    {
     "data": {
      "text/plain": [
       "array([[24, 33, 31, 12],\n",
       "       [ 6, -5, 10, 13],\n",
       "       [42, 72, 72, 10],\n",
       "       [30, 15,  6, 25]])"
      ]
     },
     "execution_count": 16,
     "metadata": {},
     "output_type": "execute_result"
    }
   ],
   "source": [
    "M = MatrixClass(matrixA)\n",
    "\n",
    "M.validity()\n",
    "M.shape()\n",
    "M.transpose()\n",
    "M.scalar_multiply(5)\n",
    "\n",
    "M.strassen(matrixA, matrixB)"
   ]
  },
  {
   "cell_type": "markdown",
   "metadata": {},
   "source": [
    "## Exercise 2\n",
    "\n",
    "- Compare using the naive method and Strassen's method for matrix multiplication.  Consider square matrices where $n = 2^p,  p \\in \\{1,2,3,4,5,6\\}$.  To make really big matrices, you could use the random module to populate the elements.\n",
    "\n",
    "- What's the biggest value of $p$ you can use and obtain an output within a couple of minutes? Which method is faster for the largest value of $p$? \n",
    "\n",
    "- Because Strassen's method involves so many additions and subtractions, it is inefficient to use Strassen's method all the way down the recursion. If this is what you've done, then try making a small modification to not do recursion all the way down- instead switch to the naive method once the recursion has broken your large matrix down into matrices of a certain size. Can you then get Strassen's method to beat the naive method?\n",
    "\n",
    "- How much memory are you using for each method?\n",
    "\n"
   ]
  },
  {
   "cell_type": "code",
   "execution_count": null,
   "metadata": {
    "collapsed": true
   },
   "outputs": [],
   "source": []
  },
  {
   "cell_type": "markdown",
   "metadata": {},
   "source": [
    "## End note\n",
    "\n",
    "Fortunately we don't normally need to implement our own methods for matrix algebra.  That's why we have numpy and scipy.  Have a look at the documentation and see if you can work out how to do all of the above operations using these libraries."
   ]
  },
  {
   "cell_type": "code",
   "execution_count": null,
   "metadata": {
    "collapsed": true
   },
   "outputs": [],
   "source": []
  },
  {
   "cell_type": "markdown",
   "metadata": {},
   "source": [
    "## Optional extension exercise\n",
    "\n",
    "Implement the naive methods of finding determinants and inverses of square matrices.  Can you handle 4x4 or even 5x5 matrices?  What happens to the running time as n gets larger?\n",
    "\n",
    "For a real challenge, see if you can implement LUP decomposition.\n"
   ]
  },
  {
   "cell_type": "code",
   "execution_count": 4,
   "metadata": {},
   "outputs": [
    {
     "data": {
      "text/plain": [
       "645.6542290346556"
      ]
     },
     "execution_count": 4,
     "metadata": {},
     "output_type": "execute_result"
    }
   ],
   "source": [
    "10**2.81"
   ]
  },
  {
   "cell_type": "code",
   "execution_count": 5,
   "metadata": {},
   "outputs": [
    {
     "data": {
      "text/plain": [
       "1000"
      ]
     },
     "execution_count": 5,
     "metadata": {},
     "output_type": "execute_result"
    }
   ],
   "source": [
    "10**3"
   ]
  },
  {
   "cell_type": "code",
   "execution_count": null,
   "metadata": {},
   "outputs": [],
   "source": []
  }
 ],
 "metadata": {
  "kernelspec": {
   "display_name": "Python 3.10.0 64-bit ('Project_Razac')",
   "language": "python",
   "name": "python3"
  },
  "language_info": {
   "codemirror_mode": {
    "name": "ipython",
    "version": 3
   },
   "file_extension": ".py",
   "mimetype": "text/x-python",
   "name": "python",
   "nbconvert_exporter": "python",
   "pygments_lexer": "ipython3",
   "version": "3.10.0"
  },
  "vscode": {
   "interpreter": {
    "hash": "0624fdc580dd22ffab01908ebdb861054c94eb6283916d8819437b3612276558"
   }
  }
 },
 "nbformat": 4,
 "nbformat_minor": 1
}
